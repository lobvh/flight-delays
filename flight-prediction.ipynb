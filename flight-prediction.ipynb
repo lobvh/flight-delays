{
 "cells": [
  {
   "cell_type": "code",
   "execution_count": 1,
   "metadata": {},
   "outputs": [],
   "source": [
    "#Excluding warnings \n",
    "import warnings\n",
    "warnings.filterwarnings('ignore')\n",
    "\n",
    "#Importing necessary data preprocessing/visualization libraries...\n",
    "import numpy as np\n",
    "import pandas as pd\n",
    "import matplotlib.pyplot as plt\n",
    "import seaborn as sns\n",
    "\n",
    "#... and necessary ML stuff \n",
    "from sklearn.model_selection import train_test_split, GridSearchCV, StratifiedKFold\n",
    "from sklearn.metrics import accuracy_score, confusion_matrix, roc_auc_score, plot_roc_curve, f1_score\n",
    "from mlxtend.plotting import plot_decision_regions, plot_confusion_matrix\n",
    "from sklearn.pipeline import Pipeline\n",
    "from sklearn.preprocessing import StandardScaler, LabelEncoder\n",
    "from sklearn.neighbors import KNeighborsClassifier\n",
    "from sklearn.linear_model import LogisticRegression\n",
    "from sklearn.tree import DecisionTreeClassifier\n",
    "from lightgbm import LGBMClassifier\n",
    "from catboost import CatBoostClassifier"
   ]
  },
  {
   "cell_type": "code",
   "execution_count": 2,
   "metadata": {},
   "outputs": [],
   "source": [
    "#Defining constant variables that I will use throughout the project\n",
    "\n",
    "RANDOM_STATE = 17"
   ]
  },
  {
   "cell_type": "code",
   "execution_count": 3,
   "metadata": {},
   "outputs": [],
   "source": [
    "#Drawing decision trees\n",
    "\n",
    "import pydotplus\n",
    "from sklearn.tree import export_graphviz\n",
    "from IPython.display import Image\n",
    "from IPython.core.display import HTML \n",
    "\n",
    "def tree_graph_to_png(tree, feature_names, png_file_to_save):\n",
    "    tree_str = export_graphviz(tree, feature_names=feature_names, \n",
    "                                     filled=True, out_file=None)\n",
    "    graph = pydotplus.graph_from_dot_data(tree_str)  \n",
    "    graph.write_png(png_file_to_save)\n"
   ]
  },
  {
   "cell_type": "markdown",
   "metadata": {},
   "source": [
    "# Part I // 'Out-of-the-box'"
   ]
  },
  {
   "cell_type": "code",
   "execution_count": 4,
   "metadata": {},
   "outputs": [],
   "source": [
    "#Importing the data\n",
    "\n",
    "train_df = pd.read_csv('data/flight_delays_train.csv.zip')\n",
    "test_df = pd.read_csv('data/flight_delays_test.csv.zip')"
   ]
  },
  {
   "cell_type": "code",
   "execution_count": 5,
   "metadata": {
    "scrolled": true
   },
   "outputs": [
    {
     "data": {
      "text/plain": [
       "((100000, 9), (100000, 8))"
      ]
     },
     "execution_count": 5,
     "metadata": {},
     "output_type": "execute_result"
    }
   ],
   "source": [
    "#Checking if everything loaded fine\n",
    "train_df.shape, test_df.shape"
   ]
  },
  {
   "cell_type": "code",
   "execution_count": 6,
   "metadata": {},
   "outputs": [
    {
     "data": {
      "text/plain": [
       "Index(['Month', 'DayofMonth', 'DayOfWeek', 'DepTime', 'UniqueCarrier',\n",
       "       'Origin', 'Dest', 'Distance', 'dep_delayed_15min'],\n",
       "      dtype='object')"
      ]
     },
     "execution_count": 6,
     "metadata": {},
     "output_type": "execute_result"
    }
   ],
   "source": [
    "train_df.columns"
   ]
  },
  {
   "cell_type": "code",
   "execution_count": 7,
   "metadata": {
    "scrolled": true
   },
   "outputs": [
    {
     "name": "stdout",
     "output_type": "stream",
     "text": [
      "<class 'pandas.core.frame.DataFrame'>\n",
      "RangeIndex: 100000 entries, 0 to 99999\n",
      "Data columns (total 9 columns):\n",
      " #   Column             Non-Null Count   Dtype \n",
      "---  ------             --------------   ----- \n",
      " 0   Month              100000 non-null  object\n",
      " 1   DayofMonth         100000 non-null  object\n",
      " 2   DayOfWeek          100000 non-null  object\n",
      " 3   DepTime            100000 non-null  int64 \n",
      " 4   UniqueCarrier      100000 non-null  object\n",
      " 5   Origin             100000 non-null  object\n",
      " 6   Dest               100000 non-null  object\n",
      " 7   Distance           100000 non-null  int64 \n",
      " 8   dep_delayed_15min  100000 non-null  object\n",
      "dtypes: int64(2), object(7)\n",
      "memory usage: 6.9+ MB\n"
     ]
    }
   ],
   "source": [
    "train_df.info()"
   ]
  },
  {
   "cell_type": "markdown",
   "metadata": {},
   "source": [
    "There are no missing values! Let's see first few rows of our data:"
   ]
  },
  {
   "cell_type": "code",
   "execution_count": 8,
   "metadata": {},
   "outputs": [
    {
     "data": {
      "text/html": [
       "<div>\n",
       "<style scoped>\n",
       "    .dataframe tbody tr th:only-of-type {\n",
       "        vertical-align: middle;\n",
       "    }\n",
       "\n",
       "    .dataframe tbody tr th {\n",
       "        vertical-align: top;\n",
       "    }\n",
       "\n",
       "    .dataframe thead th {\n",
       "        text-align: right;\n",
       "    }\n",
       "</style>\n",
       "<table border=\"1\" class=\"dataframe\">\n",
       "  <thead>\n",
       "    <tr style=\"text-align: right;\">\n",
       "      <th></th>\n",
       "      <th>Month</th>\n",
       "      <th>DayofMonth</th>\n",
       "      <th>DayOfWeek</th>\n",
       "      <th>DepTime</th>\n",
       "      <th>UniqueCarrier</th>\n",
       "      <th>Origin</th>\n",
       "      <th>Dest</th>\n",
       "      <th>Distance</th>\n",
       "      <th>dep_delayed_15min</th>\n",
       "    </tr>\n",
       "  </thead>\n",
       "  <tbody>\n",
       "    <tr>\n",
       "      <th>0</th>\n",
       "      <td>c-8</td>\n",
       "      <td>c-21</td>\n",
       "      <td>c-7</td>\n",
       "      <td>1934</td>\n",
       "      <td>AA</td>\n",
       "      <td>ATL</td>\n",
       "      <td>DFW</td>\n",
       "      <td>732</td>\n",
       "      <td>N</td>\n",
       "    </tr>\n",
       "    <tr>\n",
       "      <th>1</th>\n",
       "      <td>c-4</td>\n",
       "      <td>c-20</td>\n",
       "      <td>c-3</td>\n",
       "      <td>1548</td>\n",
       "      <td>US</td>\n",
       "      <td>PIT</td>\n",
       "      <td>MCO</td>\n",
       "      <td>834</td>\n",
       "      <td>N</td>\n",
       "    </tr>\n",
       "    <tr>\n",
       "      <th>2</th>\n",
       "      <td>c-9</td>\n",
       "      <td>c-2</td>\n",
       "      <td>c-5</td>\n",
       "      <td>1422</td>\n",
       "      <td>XE</td>\n",
       "      <td>RDU</td>\n",
       "      <td>CLE</td>\n",
       "      <td>416</td>\n",
       "      <td>N</td>\n",
       "    </tr>\n",
       "    <tr>\n",
       "      <th>3</th>\n",
       "      <td>c-11</td>\n",
       "      <td>c-25</td>\n",
       "      <td>c-6</td>\n",
       "      <td>1015</td>\n",
       "      <td>OO</td>\n",
       "      <td>DEN</td>\n",
       "      <td>MEM</td>\n",
       "      <td>872</td>\n",
       "      <td>N</td>\n",
       "    </tr>\n",
       "    <tr>\n",
       "      <th>4</th>\n",
       "      <td>c-10</td>\n",
       "      <td>c-7</td>\n",
       "      <td>c-6</td>\n",
       "      <td>1828</td>\n",
       "      <td>WN</td>\n",
       "      <td>MDW</td>\n",
       "      <td>OMA</td>\n",
       "      <td>423</td>\n",
       "      <td>Y</td>\n",
       "    </tr>\n",
       "  </tbody>\n",
       "</table>\n",
       "</div>"
      ],
      "text/plain": [
       "  Month DayofMonth DayOfWeek  DepTime UniqueCarrier Origin Dest  Distance  \\\n",
       "0   c-8       c-21       c-7     1934            AA    ATL  DFW       732   \n",
       "1   c-4       c-20       c-3     1548            US    PIT  MCO       834   \n",
       "2   c-9        c-2       c-5     1422            XE    RDU  CLE       416   \n",
       "3  c-11       c-25       c-6     1015            OO    DEN  MEM       872   \n",
       "4  c-10        c-7       c-6     1828            WN    MDW  OMA       423   \n",
       "\n",
       "  dep_delayed_15min  \n",
       "0                 N  \n",
       "1                 N  \n",
       "2                 N  \n",
       "3                 N  \n",
       "4                 Y  "
      ]
     },
     "execution_count": 8,
     "metadata": {},
     "output_type": "execute_result"
    }
   ],
   "source": [
    "train_df.head()"
   ]
  },
  {
   "cell_type": "code",
   "execution_count": 9,
   "metadata": {
    "scrolled": true
   },
   "outputs": [
    {
     "data": {
      "text/plain": [
       "N    0.80956\n",
       "Y    0.19044\n",
       "Name: dep_delayed_15min, dtype: float64"
      ]
     },
     "execution_count": 9,
     "metadata": {},
     "output_type": "execute_result"
    }
   ],
   "source": [
    "train_df['dep_delayed_15min'].value_counts(normalize = True)"
   ]
  },
  {
   "cell_type": "code",
   "execution_count": 10,
   "metadata": {
    "scrolled": true
   },
   "outputs": [
    {
     "data": {
      "image/png": "[encoded data removed]",
      "text/plain": [
       "<Figure size 432x288 with 1 Axes>"
      ]
     },
     "metadata": {
      "needs_background": "light"
     },
     "output_type": "display_data"
    }
   ],
   "source": [
    "train_df['dep_delayed_15min'].value_counts().plot(kind = 'bar', );"
   ]
  },
  {
   "cell_type": "markdown",
   "metadata": {},
   "source": [
    "Obviously, target labels are skewed (imbalanced) but not too imbalanced relatively speaking."
   ]
  },
  {
   "cell_type": "markdown",
   "metadata": {},
   "source": [
    "# Data preprocessing"
   ]
  },
  {
   "cell_type": "code",
   "execution_count": 11,
   "metadata": {},
   "outputs": [],
   "source": [
    "#Spliting the train part into matrix of features and vector of labels\n",
    "\n",
    "X_train = train_df.drop(columns = ['dep_delayed_15min'])\n",
    "y_train = train_df['dep_delayed_15min']"
   ]
  },
  {
   "cell_type": "code",
   "execution_count": 12,
   "metadata": {},
   "outputs": [
    {
     "data": {
      "text/html": [
       "<div>\n",
       "<style scoped>\n",
       "    .dataframe tbody tr th:only-of-type {\n",
       "        vertical-align: middle;\n",
       "    }\n",
       "\n",
       "    .dataframe tbody tr th {\n",
       "        vertical-align: top;\n",
       "    }\n",
       "\n",
       "    .dataframe thead th {\n",
       "        text-align: right;\n",
       "    }\n",
       "</style>\n",
       "<table border=\"1\" class=\"dataframe\">\n",
       "  <thead>\n",
       "    <tr style=\"text-align: right;\">\n",
       "      <th></th>\n",
       "      <th>Month</th>\n",
       "      <th>DayofMonth</th>\n",
       "      <th>DayOfWeek</th>\n",
       "      <th>DepTime</th>\n",
       "      <th>UniqueCarrier</th>\n",
       "      <th>Origin</th>\n",
       "      <th>Dest</th>\n",
       "      <th>Distance</th>\n",
       "    </tr>\n",
       "  </thead>\n",
       "  <tbody>\n",
       "    <tr>\n",
       "      <th>0</th>\n",
       "      <td>c-8</td>\n",
       "      <td>c-21</td>\n",
       "      <td>c-7</td>\n",
       "      <td>1934</td>\n",
       "      <td>AA</td>\n",
       "      <td>ATL</td>\n",
       "      <td>DFW</td>\n",
       "      <td>732</td>\n",
       "    </tr>\n",
       "    <tr>\n",
       "      <th>1</th>\n",
       "      <td>c-4</td>\n",
       "      <td>c-20</td>\n",
       "      <td>c-3</td>\n",
       "      <td>1548</td>\n",
       "      <td>US</td>\n",
       "      <td>PIT</td>\n",
       "      <td>MCO</td>\n",
       "      <td>834</td>\n",
       "    </tr>\n",
       "    <tr>\n",
       "      <th>2</th>\n",
       "      <td>c-9</td>\n",
       "      <td>c-2</td>\n",
       "      <td>c-5</td>\n",
       "      <td>1422</td>\n",
       "      <td>XE</td>\n",
       "      <td>RDU</td>\n",
       "      <td>CLE</td>\n",
       "      <td>416</td>\n",
       "    </tr>\n",
       "    <tr>\n",
       "      <th>3</th>\n",
       "      <td>c-11</td>\n",
       "      <td>c-25</td>\n",
       "      <td>c-6</td>\n",
       "      <td>1015</td>\n",
       "      <td>OO</td>\n",
       "      <td>DEN</td>\n",
       "      <td>MEM</td>\n",
       "      <td>872</td>\n",
       "    </tr>\n",
       "    <tr>\n",
       "      <th>4</th>\n",
       "      <td>c-10</td>\n",
       "      <td>c-7</td>\n",
       "      <td>c-6</td>\n",
       "      <td>1828</td>\n",
       "      <td>WN</td>\n",
       "      <td>MDW</td>\n",
       "      <td>OMA</td>\n",
       "      <td>423</td>\n",
       "    </tr>\n",
       "  </tbody>\n",
       "</table>\n",
       "</div>"
      ],
      "text/plain": [
       "  Month DayofMonth DayOfWeek  DepTime UniqueCarrier Origin Dest  Distance\n",
       "0   c-8       c-21       c-7     1934            AA    ATL  DFW       732\n",
       "1   c-4       c-20       c-3     1548            US    PIT  MCO       834\n",
       "2   c-9        c-2       c-5     1422            XE    RDU  CLE       416\n",
       "3  c-11       c-25       c-6     1015            OO    DEN  MEM       872\n",
       "4  c-10        c-7       c-6     1828            WN    MDW  OMA       423"
      ]
     },
     "execution_count": 12,
     "metadata": {},
     "output_type": "execute_result"
    }
   ],
   "source": [
    "X_train.head()"
   ]
  },
  {
   "cell_type": "code",
   "execution_count": 13,
   "metadata": {},
   "outputs": [
    {
     "data": {
      "text/html": [
       "<div>\n",
       "<style scoped>\n",
       "    .dataframe tbody tr th:only-of-type {\n",
       "        vertical-align: middle;\n",
       "    }\n",
       "\n",
       "    .dataframe tbody tr th {\n",
       "        vertical-align: top;\n",
       "    }\n",
       "\n",
       "    .dataframe thead th {\n",
       "        text-align: right;\n",
       "    }\n",
       "</style>\n",
       "<table border=\"1\" class=\"dataframe\">\n",
       "  <thead>\n",
       "    <tr style=\"text-align: right;\">\n",
       "      <th></th>\n",
       "      <th>Month</th>\n",
       "      <th>DayofMonth</th>\n",
       "      <th>DayOfWeek</th>\n",
       "      <th>DepTime</th>\n",
       "      <th>UniqueCarrier</th>\n",
       "      <th>Origin</th>\n",
       "      <th>Dest</th>\n",
       "      <th>Distance</th>\n",
       "    </tr>\n",
       "  </thead>\n",
       "  <tbody>\n",
       "    <tr>\n",
       "      <th>0</th>\n",
       "      <td>c-8</td>\n",
       "      <td>c-21</td>\n",
       "      <td>c-7</td>\n",
       "      <td>1934</td>\n",
       "      <td>AA</td>\n",
       "      <td>ATL</td>\n",
       "      <td>DFW</td>\n",
       "      <td>732</td>\n",
       "    </tr>\n",
       "    <tr>\n",
       "      <th>1</th>\n",
       "      <td>c-4</td>\n",
       "      <td>c-20</td>\n",
       "      <td>c-3</td>\n",
       "      <td>1548</td>\n",
       "      <td>US</td>\n",
       "      <td>PIT</td>\n",
       "      <td>MCO</td>\n",
       "      <td>834</td>\n",
       "    </tr>\n",
       "    <tr>\n",
       "      <th>2</th>\n",
       "      <td>c-9</td>\n",
       "      <td>c-2</td>\n",
       "      <td>c-5</td>\n",
       "      <td>1422</td>\n",
       "      <td>XE</td>\n",
       "      <td>RDU</td>\n",
       "      <td>CLE</td>\n",
       "      <td>416</td>\n",
       "    </tr>\n",
       "    <tr>\n",
       "      <th>3</th>\n",
       "      <td>c-11</td>\n",
       "      <td>c-25</td>\n",
       "      <td>c-6</td>\n",
       "      <td>1015</td>\n",
       "      <td>OO</td>\n",
       "      <td>DEN</td>\n",
       "      <td>MEM</td>\n",
       "      <td>872</td>\n",
       "    </tr>\n",
       "    <tr>\n",
       "      <th>4</th>\n",
       "      <td>c-10</td>\n",
       "      <td>c-7</td>\n",
       "      <td>c-6</td>\n",
       "      <td>1828</td>\n",
       "      <td>WN</td>\n",
       "      <td>MDW</td>\n",
       "      <td>OMA</td>\n",
       "      <td>423</td>\n",
       "    </tr>\n",
       "  </tbody>\n",
       "</table>\n",
       "</div>"
      ],
      "text/plain": [
       "  Month DayofMonth DayOfWeek  DepTime UniqueCarrier Origin Dest  Distance\n",
       "0   c-8       c-21       c-7     1934            AA    ATL  DFW       732\n",
       "1   c-4       c-20       c-3     1548            US    PIT  MCO       834\n",
       "2   c-9        c-2       c-5     1422            XE    RDU  CLE       416\n",
       "3  c-11       c-25       c-6     1015            OO    DEN  MEM       872\n",
       "4  c-10        c-7       c-6     1828            WN    MDW  OMA       423"
      ]
     },
     "execution_count": 13,
     "metadata": {},
     "output_type": "execute_result"
    }
   ],
   "source": [
    "X_train.iloc[0:5]"
   ]
  },
  {
   "cell_type": "markdown",
   "metadata": {},
   "source": [
    "## Stage 1\n",
    "\n",
    "We see that it is worth performing a cleaning part of the categorical features that corresponds to 'date' (Month, DayofMonth and DayOfWeek), and converting them to integer values. I will also keep the original ones just in case that I missed something. At this point it would also be a nice idea to concatenate train and test dataset in order to clean data 'all at once'."
   ]
  },
  {
   "cell_type": "code",
   "execution_count": 14,
   "metadata": {},
   "outputs": [],
   "source": [
    "#Both train and test part have 10000 samples, but I will keep the location of the X_train\n",
    "TRAIN_LOC = 99999\n",
    "\n",
    "X_test = test_df\n",
    "X = pd.concat([X_train, X_test], ignore_index = True)"
   ]
  },
  {
   "cell_type": "code",
   "execution_count": 15,
   "metadata": {},
   "outputs": [
    {
     "data": {
      "text/plain": [
       "(200000, 8)"
      ]
     },
     "execution_count": 15,
     "metadata": {},
     "output_type": "execute_result"
    }
   ],
   "source": [
    "#Let's test if everything is fine \n",
    "X.shape"
   ]
  },
  {
   "cell_type": "code",
   "execution_count": 16,
   "metadata": {},
   "outputs": [
    {
     "data": {
      "text/html": [
       "<div>\n",
       "<style scoped>\n",
       "    .dataframe tbody tr th:only-of-type {\n",
       "        vertical-align: middle;\n",
       "    }\n",
       "\n",
       "    .dataframe tbody tr th {\n",
       "        vertical-align: top;\n",
       "    }\n",
       "\n",
       "    .dataframe thead th {\n",
       "        text-align: right;\n",
       "    }\n",
       "</style>\n",
       "<table border=\"1\" class=\"dataframe\">\n",
       "  <thead>\n",
       "    <tr style=\"text-align: right;\">\n",
       "      <th></th>\n",
       "      <th>Month</th>\n",
       "      <th>DayofMonth</th>\n",
       "      <th>DayOfWeek</th>\n",
       "      <th>DepTime</th>\n",
       "      <th>UniqueCarrier</th>\n",
       "      <th>Origin</th>\n",
       "      <th>Dest</th>\n",
       "      <th>Distance</th>\n",
       "    </tr>\n",
       "  </thead>\n",
       "  <tbody>\n",
       "    <tr>\n",
       "      <th>199995</th>\n",
       "      <td>c-6</td>\n",
       "      <td>c-5</td>\n",
       "      <td>c-2</td>\n",
       "      <td>852</td>\n",
       "      <td>WN</td>\n",
       "      <td>CRP</td>\n",
       "      <td>HOU</td>\n",
       "      <td>187</td>\n",
       "    </tr>\n",
       "    <tr>\n",
       "      <th>199996</th>\n",
       "      <td>c-11</td>\n",
       "      <td>c-24</td>\n",
       "      <td>c-6</td>\n",
       "      <td>1446</td>\n",
       "      <td>UA</td>\n",
       "      <td>ORD</td>\n",
       "      <td>LAS</td>\n",
       "      <td>1515</td>\n",
       "    </tr>\n",
       "    <tr>\n",
       "      <th>199997</th>\n",
       "      <td>c-1</td>\n",
       "      <td>c-30</td>\n",
       "      <td>c-2</td>\n",
       "      <td>1509</td>\n",
       "      <td>OO</td>\n",
       "      <td>ORD</td>\n",
       "      <td>SGF</td>\n",
       "      <td>438</td>\n",
       "    </tr>\n",
       "    <tr>\n",
       "      <th>199998</th>\n",
       "      <td>c-1</td>\n",
       "      <td>c-5</td>\n",
       "      <td>c-5</td>\n",
       "      <td>804</td>\n",
       "      <td>DL</td>\n",
       "      <td>LGA</td>\n",
       "      <td>ATL</td>\n",
       "      <td>761</td>\n",
       "    </tr>\n",
       "    <tr>\n",
       "      <th>199999</th>\n",
       "      <td>c-10</td>\n",
       "      <td>c-29</td>\n",
       "      <td>c-1</td>\n",
       "      <td>834</td>\n",
       "      <td>OO</td>\n",
       "      <td>MKE</td>\n",
       "      <td>MSP</td>\n",
       "      <td>297</td>\n",
       "    </tr>\n",
       "  </tbody>\n",
       "</table>\n",
       "</div>"
      ],
      "text/plain": [
       "       Month DayofMonth DayOfWeek  DepTime UniqueCarrier Origin Dest  Distance\n",
       "199995   c-6        c-5       c-2      852            WN    CRP  HOU       187\n",
       "199996  c-11       c-24       c-6     1446            UA    ORD  LAS      1515\n",
       "199997   c-1       c-30       c-2     1509            OO    ORD  SGF       438\n",
       "199998   c-1        c-5       c-5      804            DL    LGA  ATL       761\n",
       "199999  c-10       c-29       c-1      834            OO    MKE  MSP       297"
      ]
     },
     "execution_count": 16,
     "metadata": {},
     "output_type": "execute_result"
    }
   ],
   "source": [
    "X.tail()"
   ]
  },
  {
   "cell_type": "code",
   "execution_count": 17,
   "metadata": {
    "scrolled": true
   },
   "outputs": [],
   "source": [
    "#Cleaning the collumns for unnecessary 'c-' part\n",
    "\n",
    "X['Month_1'] = np.array([value[2:] for value in X['Month'].values]).astype('int')\n",
    "X['DayOfMonth_1'] = np.array([value[2:] for value in X['DayofMonth'].values]).astype('int')\n",
    "X['DayOfWeek_1'] = np.array([value[2:] for value in X['DayOfWeek'].values]).astype('int')"
   ]
  },
  {
   "cell_type": "code",
   "execution_count": 18,
   "metadata": {},
   "outputs": [
    {
     "data": {
      "text/html": [
       "<div>\n",
       "<style scoped>\n",
       "    .dataframe tbody tr th:only-of-type {\n",
       "        vertical-align: middle;\n",
       "    }\n",
       "\n",
       "    .dataframe tbody tr th {\n",
       "        vertical-align: top;\n",
       "    }\n",
       "\n",
       "    .dataframe thead th {\n",
       "        text-align: right;\n",
       "    }\n",
       "</style>\n",
       "<table border=\"1\" class=\"dataframe\">\n",
       "  <thead>\n",
       "    <tr style=\"text-align: right;\">\n",
       "      <th></th>\n",
       "      <th>Month</th>\n",
       "      <th>DayofMonth</th>\n",
       "      <th>DayOfWeek</th>\n",
       "      <th>DepTime</th>\n",
       "      <th>UniqueCarrier</th>\n",
       "      <th>Origin</th>\n",
       "      <th>Dest</th>\n",
       "      <th>Distance</th>\n",
       "      <th>Month_1</th>\n",
       "      <th>DayOfMonth_1</th>\n",
       "      <th>DayOfWeek_1</th>\n",
       "    </tr>\n",
       "  </thead>\n",
       "  <tbody>\n",
       "    <tr>\n",
       "      <th>0</th>\n",
       "      <td>c-8</td>\n",
       "      <td>c-21</td>\n",
       "      <td>c-7</td>\n",
       "      <td>1934</td>\n",
       "      <td>AA</td>\n",
       "      <td>ATL</td>\n",
       "      <td>DFW</td>\n",
       "      <td>732</td>\n",
       "      <td>8</td>\n",
       "      <td>21</td>\n",
       "      <td>7</td>\n",
       "    </tr>\n",
       "    <tr>\n",
       "      <th>1</th>\n",
       "      <td>c-4</td>\n",
       "      <td>c-20</td>\n",
       "      <td>c-3</td>\n",
       "      <td>1548</td>\n",
       "      <td>US</td>\n",
       "      <td>PIT</td>\n",
       "      <td>MCO</td>\n",
       "      <td>834</td>\n",
       "      <td>4</td>\n",
       "      <td>20</td>\n",
       "      <td>3</td>\n",
       "    </tr>\n",
       "    <tr>\n",
       "      <th>2</th>\n",
       "      <td>c-9</td>\n",
       "      <td>c-2</td>\n",
       "      <td>c-5</td>\n",
       "      <td>1422</td>\n",
       "      <td>XE</td>\n",
       "      <td>RDU</td>\n",
       "      <td>CLE</td>\n",
       "      <td>416</td>\n",
       "      <td>9</td>\n",
       "      <td>2</td>\n",
       "      <td>5</td>\n",
       "    </tr>\n",
       "    <tr>\n",
       "      <th>3</th>\n",
       "      <td>c-11</td>\n",
       "      <td>c-25</td>\n",
       "      <td>c-6</td>\n",
       "      <td>1015</td>\n",
       "      <td>OO</td>\n",
       "      <td>DEN</td>\n",
       "      <td>MEM</td>\n",
       "      <td>872</td>\n",
       "      <td>11</td>\n",
       "      <td>25</td>\n",
       "      <td>6</td>\n",
       "    </tr>\n",
       "    <tr>\n",
       "      <th>4</th>\n",
       "      <td>c-10</td>\n",
       "      <td>c-7</td>\n",
       "      <td>c-6</td>\n",
       "      <td>1828</td>\n",
       "      <td>WN</td>\n",
       "      <td>MDW</td>\n",
       "      <td>OMA</td>\n",
       "      <td>423</td>\n",
       "      <td>10</td>\n",
       "      <td>7</td>\n",
       "      <td>6</td>\n",
       "    </tr>\n",
       "  </tbody>\n",
       "</table>\n",
       "</div>"
      ],
      "text/plain": [
       "  Month DayofMonth DayOfWeek  DepTime UniqueCarrier Origin Dest  Distance  \\\n",
       "0   c-8       c-21       c-7     1934            AA    ATL  DFW       732   \n",
       "1   c-4       c-20       c-3     1548            US    PIT  MCO       834   \n",
       "2   c-9        c-2       c-5     1422            XE    RDU  CLE       416   \n",
       "3  c-11       c-25       c-6     1015            OO    DEN  MEM       872   \n",
       "4  c-10        c-7       c-6     1828            WN    MDW  OMA       423   \n",
       "\n",
       "   Month_1  DayOfMonth_1  DayOfWeek_1  \n",
       "0        8            21            7  \n",
       "1        4            20            3  \n",
       "2        9             2            5  \n",
       "3       11            25            6  \n",
       "4       10             7            6  "
      ]
     },
     "execution_count": 18,
     "metadata": {},
     "output_type": "execute_result"
    }
   ],
   "source": [
    "X.head()"
   ]
  },
  {
   "cell_type": "markdown",
   "metadata": {},
   "source": [
    "## Stage 2\n",
    "\n",
    "One can also see that we need to convert categorical features UniqueCarrier, Origin and Dest into something that is understandable for ML algorithms. I will convert those via LabelEncoding, but I will also keep a copy of current dataset since **catboost** classifier has some implicit ways of dealing with categorical variables which makes it more powerful than other libreries which train Gradient Boosted trees. There might be a possibility that I will also use something more sophisticated afterwards for encoding."
   ]
  },
  {
   "cell_type": "code",
   "execution_count": 19,
   "metadata": {},
   "outputs": [],
   "source": [
    "#Keep the copy of current dataset\n",
    "X_cat = X.copy()\n",
    "\n",
    "#Encoding 'UniqueCarrier', 'Origin' and 'Dest'\n",
    "le = LabelEncoder()\n",
    "columns_le = ['UniqueCarrier', 'Origin', 'Dest']\n",
    "\n",
    "for column in columns_le:\n",
    "    le.fit(X[column])\n",
    "    X[column+str('_1')] = le.transform(X[column]).astype('int')"
   ]
  },
  {
   "cell_type": "code",
   "execution_count": 20,
   "metadata": {
    "scrolled": false
   },
   "outputs": [
    {
     "data": {
      "text/html": [
       "<div>\n",
       "<style scoped>\n",
       "    .dataframe tbody tr th:only-of-type {\n",
       "        vertical-align: middle;\n",
       "    }\n",
       "\n",
       "    .dataframe tbody tr th {\n",
       "        vertical-align: top;\n",
       "    }\n",
       "\n",
       "    .dataframe thead th {\n",
       "        text-align: right;\n",
       "    }\n",
       "</style>\n",
       "<table border=\"1\" class=\"dataframe\">\n",
       "  <thead>\n",
       "    <tr style=\"text-align: right;\">\n",
       "      <th></th>\n",
       "      <th>Month</th>\n",
       "      <th>DayofMonth</th>\n",
       "      <th>DayOfWeek</th>\n",
       "      <th>DepTime</th>\n",
       "      <th>UniqueCarrier</th>\n",
       "      <th>Origin</th>\n",
       "      <th>Dest</th>\n",
       "      <th>Distance</th>\n",
       "      <th>Month_1</th>\n",
       "      <th>DayOfMonth_1</th>\n",
       "      <th>DayOfWeek_1</th>\n",
       "      <th>UniqueCarrier_1</th>\n",
       "      <th>Origin_1</th>\n",
       "      <th>Dest_1</th>\n",
       "    </tr>\n",
       "  </thead>\n",
       "  <tbody>\n",
       "    <tr>\n",
       "      <th>0</th>\n",
       "      <td>c-8</td>\n",
       "      <td>c-21</td>\n",
       "      <td>c-7</td>\n",
       "      <td>1934</td>\n",
       "      <td>AA</td>\n",
       "      <td>ATL</td>\n",
       "      <td>DFW</td>\n",
       "      <td>732</td>\n",
       "      <td>8</td>\n",
       "      <td>21</td>\n",
       "      <td>7</td>\n",
       "      <td>1</td>\n",
       "      <td>19</td>\n",
       "      <td>82</td>\n",
       "    </tr>\n",
       "    <tr>\n",
       "      <th>1</th>\n",
       "      <td>c-4</td>\n",
       "      <td>c-20</td>\n",
       "      <td>c-3</td>\n",
       "      <td>1548</td>\n",
       "      <td>US</td>\n",
       "      <td>PIT</td>\n",
       "      <td>MCO</td>\n",
       "      <td>834</td>\n",
       "      <td>4</td>\n",
       "      <td>20</td>\n",
       "      <td>3</td>\n",
       "      <td>19</td>\n",
       "      <td>226</td>\n",
       "      <td>180</td>\n",
       "    </tr>\n",
       "    <tr>\n",
       "      <th>2</th>\n",
       "      <td>c-9</td>\n",
       "      <td>c-2</td>\n",
       "      <td>c-5</td>\n",
       "      <td>1422</td>\n",
       "      <td>XE</td>\n",
       "      <td>RDU</td>\n",
       "      <td>CLE</td>\n",
       "      <td>416</td>\n",
       "      <td>9</td>\n",
       "      <td>2</td>\n",
       "      <td>5</td>\n",
       "      <td>21</td>\n",
       "      <td>239</td>\n",
       "      <td>62</td>\n",
       "    </tr>\n",
       "    <tr>\n",
       "      <th>3</th>\n",
       "      <td>c-11</td>\n",
       "      <td>c-25</td>\n",
       "      <td>c-6</td>\n",
       "      <td>1015</td>\n",
       "      <td>OO</td>\n",
       "      <td>DEN</td>\n",
       "      <td>MEM</td>\n",
       "      <td>872</td>\n",
       "      <td>11</td>\n",
       "      <td>25</td>\n",
       "      <td>6</td>\n",
       "      <td>16</td>\n",
       "      <td>81</td>\n",
       "      <td>184</td>\n",
       "    </tr>\n",
       "    <tr>\n",
       "      <th>4</th>\n",
       "      <td>c-10</td>\n",
       "      <td>c-7</td>\n",
       "      <td>c-6</td>\n",
       "      <td>1828</td>\n",
       "      <td>WN</td>\n",
       "      <td>MDW</td>\n",
       "      <td>OMA</td>\n",
       "      <td>423</td>\n",
       "      <td>10</td>\n",
       "      <td>7</td>\n",
       "      <td>6</td>\n",
       "      <td>20</td>\n",
       "      <td>182</td>\n",
       "      <td>210</td>\n",
       "    </tr>\n",
       "  </tbody>\n",
       "</table>\n",
       "</div>"
      ],
      "text/plain": [
       "  Month DayofMonth DayOfWeek  DepTime UniqueCarrier Origin Dest  Distance  \\\n",
       "0   c-8       c-21       c-7     1934            AA    ATL  DFW       732   \n",
       "1   c-4       c-20       c-3     1548            US    PIT  MCO       834   \n",
       "2   c-9        c-2       c-5     1422            XE    RDU  CLE       416   \n",
       "3  c-11       c-25       c-6     1015            OO    DEN  MEM       872   \n",
       "4  c-10        c-7       c-6     1828            WN    MDW  OMA       423   \n",
       "\n",
       "   Month_1  DayOfMonth_1  DayOfWeek_1  UniqueCarrier_1  Origin_1  Dest_1  \n",
       "0        8            21            7                1        19      82  \n",
       "1        4            20            3               19       226     180  \n",
       "2        9             2            5               21       239      62  \n",
       "3       11            25            6               16        81     184  \n",
       "4       10             7            6               20       182     210  "
      ]
     },
     "execution_count": 20,
     "metadata": {},
     "output_type": "execute_result"
    }
   ],
   "source": [
    "X.head()"
   ]
  },
  {
   "cell_type": "markdown",
   "metadata": {},
   "source": [
    "## Stage 3\n",
    "\n",
    "I will treat DepTime and Distance as floats, because there might be some future operations with these features that would help me in feature engineering. "
   ]
  },
  {
   "cell_type": "code",
   "execution_count": 21,
   "metadata": {},
   "outputs": [],
   "source": [
    "X['DepTime_1'] = X['DepTime'].astype('float64')\n",
    "X['Distance_1'] = X['Distance'].astype('float64')"
   ]
  },
  {
   "cell_type": "code",
   "execution_count": 22,
   "metadata": {
    "scrolled": false
   },
   "outputs": [
    {
     "data": {
      "text/html": [
       "<div>\n",
       "<style scoped>\n",
       "    .dataframe tbody tr th:only-of-type {\n",
       "        vertical-align: middle;\n",
       "    }\n",
       "\n",
       "    .dataframe tbody tr th {\n",
       "        vertical-align: top;\n",
       "    }\n",
       "\n",
       "    .dataframe thead th {\n",
       "        text-align: right;\n",
       "    }\n",
       "</style>\n",
       "<table border=\"1\" class=\"dataframe\">\n",
       "  <thead>\n",
       "    <tr style=\"text-align: right;\">\n",
       "      <th></th>\n",
       "      <th>Month</th>\n",
       "      <th>DayofMonth</th>\n",
       "      <th>DayOfWeek</th>\n",
       "      <th>DepTime</th>\n",
       "      <th>UniqueCarrier</th>\n",
       "      <th>Origin</th>\n",
       "      <th>Dest</th>\n",
       "      <th>Distance</th>\n",
       "      <th>Month_1</th>\n",
       "      <th>DayOfMonth_1</th>\n",
       "      <th>DayOfWeek_1</th>\n",
       "      <th>UniqueCarrier_1</th>\n",
       "      <th>Origin_1</th>\n",
       "      <th>Dest_1</th>\n",
       "      <th>DepTime_1</th>\n",
       "      <th>Distance_1</th>\n",
       "    </tr>\n",
       "  </thead>\n",
       "  <tbody>\n",
       "    <tr>\n",
       "      <th>0</th>\n",
       "      <td>c-8</td>\n",
       "      <td>c-21</td>\n",
       "      <td>c-7</td>\n",
       "      <td>1934</td>\n",
       "      <td>AA</td>\n",
       "      <td>ATL</td>\n",
       "      <td>DFW</td>\n",
       "      <td>732</td>\n",
       "      <td>8</td>\n",
       "      <td>21</td>\n",
       "      <td>7</td>\n",
       "      <td>1</td>\n",
       "      <td>19</td>\n",
       "      <td>82</td>\n",
       "      <td>1934.0</td>\n",
       "      <td>732.0</td>\n",
       "    </tr>\n",
       "    <tr>\n",
       "      <th>1</th>\n",
       "      <td>c-4</td>\n",
       "      <td>c-20</td>\n",
       "      <td>c-3</td>\n",
       "      <td>1548</td>\n",
       "      <td>US</td>\n",
       "      <td>PIT</td>\n",
       "      <td>MCO</td>\n",
       "      <td>834</td>\n",
       "      <td>4</td>\n",
       "      <td>20</td>\n",
       "      <td>3</td>\n",
       "      <td>19</td>\n",
       "      <td>226</td>\n",
       "      <td>180</td>\n",
       "      <td>1548.0</td>\n",
       "      <td>834.0</td>\n",
       "    </tr>\n",
       "    <tr>\n",
       "      <th>2</th>\n",
       "      <td>c-9</td>\n",
       "      <td>c-2</td>\n",
       "      <td>c-5</td>\n",
       "      <td>1422</td>\n",
       "      <td>XE</td>\n",
       "      <td>RDU</td>\n",
       "      <td>CLE</td>\n",
       "      <td>416</td>\n",
       "      <td>9</td>\n",
       "      <td>2</td>\n",
       "      <td>5</td>\n",
       "      <td>21</td>\n",
       "      <td>239</td>\n",
       "      <td>62</td>\n",
       "      <td>1422.0</td>\n",
       "      <td>416.0</td>\n",
       "    </tr>\n",
       "    <tr>\n",
       "      <th>3</th>\n",
       "      <td>c-11</td>\n",
       "      <td>c-25</td>\n",
       "      <td>c-6</td>\n",
       "      <td>1015</td>\n",
       "      <td>OO</td>\n",
       "      <td>DEN</td>\n",
       "      <td>MEM</td>\n",
       "      <td>872</td>\n",
       "      <td>11</td>\n",
       "      <td>25</td>\n",
       "      <td>6</td>\n",
       "      <td>16</td>\n",
       "      <td>81</td>\n",
       "      <td>184</td>\n",
       "      <td>1015.0</td>\n",
       "      <td>872.0</td>\n",
       "    </tr>\n",
       "    <tr>\n",
       "      <th>4</th>\n",
       "      <td>c-10</td>\n",
       "      <td>c-7</td>\n",
       "      <td>c-6</td>\n",
       "      <td>1828</td>\n",
       "      <td>WN</td>\n",
       "      <td>MDW</td>\n",
       "      <td>OMA</td>\n",
       "      <td>423</td>\n",
       "      <td>10</td>\n",
       "      <td>7</td>\n",
       "      <td>6</td>\n",
       "      <td>20</td>\n",
       "      <td>182</td>\n",
       "      <td>210</td>\n",
       "      <td>1828.0</td>\n",
       "      <td>423.0</td>\n",
       "    </tr>\n",
       "  </tbody>\n",
       "</table>\n",
       "</div>"
      ],
      "text/plain": [
       "  Month DayofMonth DayOfWeek  DepTime UniqueCarrier Origin Dest  Distance  \\\n",
       "0   c-8       c-21       c-7     1934            AA    ATL  DFW       732   \n",
       "1   c-4       c-20       c-3     1548            US    PIT  MCO       834   \n",
       "2   c-9        c-2       c-5     1422            XE    RDU  CLE       416   \n",
       "3  c-11       c-25       c-6     1015            OO    DEN  MEM       872   \n",
       "4  c-10        c-7       c-6     1828            WN    MDW  OMA       423   \n",
       "\n",
       "   Month_1  DayOfMonth_1  DayOfWeek_1  UniqueCarrier_1  Origin_1  Dest_1  \\\n",
       "0        8            21            7                1        19      82   \n",
       "1        4            20            3               19       226     180   \n",
       "2        9             2            5               21       239      62   \n",
       "3       11            25            6               16        81     184   \n",
       "4       10             7            6               20       182     210   \n",
       "\n",
       "   DepTime_1  Distance_1  \n",
       "0     1934.0       732.0  \n",
       "1     1548.0       834.0  \n",
       "2     1422.0       416.0  \n",
       "3     1015.0       872.0  \n",
       "4     1828.0       423.0  "
      ]
     },
     "execution_count": 22,
     "metadata": {},
     "output_type": "execute_result"
    }
   ],
   "source": [
    "X.head()"
   ]
  },
  {
   "cell_type": "markdown",
   "metadata": {},
   "source": [
    "## Stage 4\n",
    "\n",
    "At this point I think all the necessary preprocessing is more or less considered to be done, and now I am safe to remove 'old' features, for now."
   ]
  },
  {
   "cell_type": "code",
   "execution_count": 23,
   "metadata": {},
   "outputs": [],
   "source": [
    "#Using a trick to find all the columns I need to drop\n",
    "cols_del = train_df.columns.drop('dep_delayed_15min')"
   ]
  },
  {
   "cell_type": "code",
   "execution_count": 24,
   "metadata": {},
   "outputs": [],
   "source": [
    "X.drop(columns = cols_del, inplace = True)"
   ]
  },
  {
   "cell_type": "code",
   "execution_count": 25,
   "metadata": {
    "scrolled": false
   },
   "outputs": [
    {
     "data": {
      "text/html": [
       "<div>\n",
       "<style scoped>\n",
       "    .dataframe tbody tr th:only-of-type {\n",
       "        vertical-align: middle;\n",
       "    }\n",
       "\n",
       "    .dataframe tbody tr th {\n",
       "        vertical-align: top;\n",
       "    }\n",
       "\n",
       "    .dataframe thead th {\n",
       "        text-align: right;\n",
       "    }\n",
       "</style>\n",
       "<table border=\"1\" class=\"dataframe\">\n",
       "  <thead>\n",
       "    <tr style=\"text-align: right;\">\n",
       "      <th></th>\n",
       "      <th>Month_1</th>\n",
       "      <th>DayOfMonth_1</th>\n",
       "      <th>DayOfWeek_1</th>\n",
       "      <th>UniqueCarrier_1</th>\n",
       "      <th>Origin_1</th>\n",
       "      <th>Dest_1</th>\n",
       "      <th>DepTime_1</th>\n",
       "      <th>Distance_1</th>\n",
       "    </tr>\n",
       "  </thead>\n",
       "  <tbody>\n",
       "    <tr>\n",
       "      <th>0</th>\n",
       "      <td>8</td>\n",
       "      <td>21</td>\n",
       "      <td>7</td>\n",
       "      <td>1</td>\n",
       "      <td>19</td>\n",
       "      <td>82</td>\n",
       "      <td>1934.0</td>\n",
       "      <td>732.0</td>\n",
       "    </tr>\n",
       "    <tr>\n",
       "      <th>1</th>\n",
       "      <td>4</td>\n",
       "      <td>20</td>\n",
       "      <td>3</td>\n",
       "      <td>19</td>\n",
       "      <td>226</td>\n",
       "      <td>180</td>\n",
       "      <td>1548.0</td>\n",
       "      <td>834.0</td>\n",
       "    </tr>\n",
       "    <tr>\n",
       "      <th>2</th>\n",
       "      <td>9</td>\n",
       "      <td>2</td>\n",
       "      <td>5</td>\n",
       "      <td>21</td>\n",
       "      <td>239</td>\n",
       "      <td>62</td>\n",
       "      <td>1422.0</td>\n",
       "      <td>416.0</td>\n",
       "    </tr>\n",
       "    <tr>\n",
       "      <th>3</th>\n",
       "      <td>11</td>\n",
       "      <td>25</td>\n",
       "      <td>6</td>\n",
       "      <td>16</td>\n",
       "      <td>81</td>\n",
       "      <td>184</td>\n",
       "      <td>1015.0</td>\n",
       "      <td>872.0</td>\n",
       "    </tr>\n",
       "    <tr>\n",
       "      <th>4</th>\n",
       "      <td>10</td>\n",
       "      <td>7</td>\n",
       "      <td>6</td>\n",
       "      <td>20</td>\n",
       "      <td>182</td>\n",
       "      <td>210</td>\n",
       "      <td>1828.0</td>\n",
       "      <td>423.0</td>\n",
       "    </tr>\n",
       "  </tbody>\n",
       "</table>\n",
       "</div>"
      ],
      "text/plain": [
       "   Month_1  DayOfMonth_1  DayOfWeek_1  UniqueCarrier_1  Origin_1  Dest_1  \\\n",
       "0        8            21            7                1        19      82   \n",
       "1        4            20            3               19       226     180   \n",
       "2        9             2            5               21       239      62   \n",
       "3       11            25            6               16        81     184   \n",
       "4       10             7            6               20       182     210   \n",
       "\n",
       "   DepTime_1  Distance_1  \n",
       "0     1934.0       732.0  \n",
       "1     1548.0       834.0  \n",
       "2     1422.0       416.0  \n",
       "3     1015.0       872.0  \n",
       "4     1828.0       423.0  "
      ]
     },
     "execution_count": 25,
     "metadata": {},
     "output_type": "execute_result"
    }
   ],
   "source": [
    "X.head()"
   ]
  },
  {
   "cell_type": "markdown",
   "metadata": {},
   "source": [
    "## Stage 5\n",
    "\n",
    "One last piece is to map target variables to 0s and 1s."
   ]
  },
  {
   "cell_type": "code",
   "execution_count": 26,
   "metadata": {},
   "outputs": [],
   "source": [
    "#Map target feature to {0,1}\n",
    "\n",
    "mapping = {'N': 0, 'Y': 1}\n",
    "y = train_df['dep_delayed_15min'].map(mapping)"
   ]
  },
  {
   "cell_type": "code",
   "execution_count": 27,
   "metadata": {},
   "outputs": [],
   "source": [
    "#Re-split the data temporarly into train and test set\n",
    "train_data = X[:(TRAIN_LOC+1)]\n",
    "\n",
    "#Split the training data into train and validation part\n",
    "X_train, X_valid, y_train, y_valid = train_test_split(train_data, y,\\\n",
    "                                                      test_size=0.3, random_state = RANDOM_STATE,\\\n",
    "                                                      shuffle = True)"
   ]
  },
  {
   "cell_type": "code",
   "execution_count": 28,
   "metadata": {
    "scrolled": true
   },
   "outputs": [
    {
     "data": {
      "text/plain": [
       "((70000, 8), (30000, 8), 70000, 30000)"
      ]
     },
     "execution_count": 28,
     "metadata": {},
     "output_type": "execute_result"
    }
   ],
   "source": [
    "#Check if everything is correct\n",
    "\n",
    "X_train.shape, X_valid.shape, y_train.shape[0], y_valid.shape[0]"
   ]
  },
  {
   "cell_type": "markdown",
   "metadata": {},
   "source": [
    "Time for ML! "
   ]
  },
  {
   "cell_type": "markdown",
   "metadata": {},
   "source": [
    "# Decision Trees"
   ]
  },
  {
   "cell_type": "markdown",
   "metadata": {},
   "source": [
    "In my usual practise I tend to start with the simplest models and see if they yield meaningful results. I consider Decision Trees, Logistic Regression and kNN as simple models.\n",
    "\n",
    "From there I can make a decision such as if linear models have a better perfomance over tree based models, which (usually) means that data is more linearly separable (if you think about it). \n",
    "\n",
    "Second, it is also a good compass to see if it's meaningful to use complex variants based on a simpler models (DecisionTrees -> RandomForest -> BoostedTrees). Or maybe the ensemble of them would work even better?\n",
    "\n",
    "There are more dimensions in a domain of business than just binary dimension 'isAlgoFancy'. Time of evaluating predictions might be one of the crucial parameters in determining if one should use 'less better model' over 'fancy ones', and it could be also stated explicitly in some metric!"
   ]
  },
  {
   "cell_type": "code",
   "execution_count": 29,
   "metadata": {},
   "outputs": [],
   "source": [
    "#Train vanilla decision tree without any hyperparameter tuning\n",
    "\n",
    "dt = DecisionTreeClassifier(random_state = RANDOM_STATE)"
   ]
  },
  {
   "cell_type": "code",
   "execution_count": 30,
   "metadata": {},
   "outputs": [
    {
     "data": {
      "text/plain": [
       "DecisionTreeClassifier(ccp_alpha=0.0, class_weight=None, criterion='gini',\n",
       "                       max_depth=None, max_features=None, max_leaf_nodes=None,\n",
       "                       min_impurity_decrease=0.0, min_impurity_split=None,\n",
       "                       min_samples_leaf=1, min_samples_split=2,\n",
       "                       min_weight_fraction_leaf=0.0, presort='deprecated',\n",
       "                       random_state=17, splitter='best')"
      ]
     },
     "execution_count": 30,
     "metadata": {},
     "output_type": "execute_result"
    }
   ],
   "source": [
    "dt.fit(X_train, y_train)"
   ]
  },
  {
   "cell_type": "code",
   "execution_count": 31,
   "metadata": {
    "scrolled": true
   },
   "outputs": [],
   "source": [
    "dt_preds = dt.predict(X_valid)\n",
    "dt_acc_score = accuracy_score(dt_preds, y_valid)\n",
    "dt_roc_auc_score = roc_auc_score(dt_preds, y_valid)"
   ]
  },
  {
   "cell_type": "code",
   "execution_count": 32,
   "metadata": {},
   "outputs": [
    {
     "name": "stdout",
     "output_type": "stream",
     "text": [
      "Accuracy score using plain DecisionTreeClassifier: 0.7279\n",
      "ROC-AUC score using plain DecisionTreeClassifier: 0.56859\n"
     ]
    }
   ],
   "source": [
    "print(f'Accuracy score using plain DecisionTreeClassifier: {round(dt_acc_score, 5)}')\n",
    "print(f'ROC-AUC score using plain DecisionTreeClassifier: {round(dt_roc_auc_score, 5)}')"
   ]
  },
  {
   "cell_type": "markdown",
   "metadata": {},
   "source": [
    "Bear in mind that we used each feature in this out-of-the-box DecisionTree, and without doing any EDA. Second, the data is relatively speaking imbalanced, so using 'stratified samples' is **a must.** Not only that, we even randomly shuffled the data! Our ROC-AUC is slightly better than 'random guessing', and Boosting says that given a model that is slightly better than random guessing it's true you can make it a strong learne. \n",
    "\n",
    "Finaly, let's compare our model to the baseline: **predict all that are non delayed** model."
   ]
  },
  {
   "cell_type": "code",
   "execution_count": 33,
   "metadata": {},
   "outputs": [
    {
     "data": {
      "text/plain": [
       "N    0.80956\n",
       "Y    0.19044\n",
       "Name: dep_delayed_15min, dtype: float64"
      ]
     },
     "execution_count": 33,
     "metadata": {},
     "output_type": "execute_result"
    }
   ],
   "source": [
    "train_df['dep_delayed_15min'].value_counts(normalize = True)"
   ]
  },
  {
   "cell_type": "markdown",
   "metadata": {},
   "source": [
    "The share of non-delayed airplaines in the sample is around 80%. The most naive model that always predicts a \"loyal customer\" on such data will guess right in about 80% of all cases. That is, the proportion of correct answers (accuracy) of subsequent models should be no less than this number, and will hopefully be significantly higher."
   ]
  },
  {
   "cell_type": "markdown",
   "metadata": {},
   "source": [
    "### DecisionTree (GridSearchCV - Accuracy)"
   ]
  },
  {
   "cell_type": "markdown",
   "metadata": {},
   "source": [
    "Let's tune a decision tree and see if it makes any significant progress in terms of ROC/AUC. We will also use StratifiedKFold cross-validation to ensure that we have equal proportions of labels in each split."
   ]
  },
  {
   "cell_type": "code",
   "execution_count": 34,
   "metadata": {},
   "outputs": [],
   "source": [
    "#Defining hyperparameters for tuning a decision tree\n",
    "tree_params = {'max_depth': range(2, 11), \n",
    "               'min_samples_leaf' : range(2,11),\n",
    "               } #'max_features': range(2, len(X.columns)+1) could be used here\n",
    "\n",
    "#Defining 5-fold stratified cross-validation scheme\n",
    "skf = StratifiedKFold(n_splits = 5, shuffle = True, random_state = RANDOM_STATE)"
   ]
  },
  {
   "cell_type": "code",
   "execution_count": 35,
   "metadata": {},
   "outputs": [],
   "source": [
    "#Using GridSearchCV to test all possible permutations of tree_params to find the optimal score on validation set\n",
    "tree_grid = GridSearchCV(estimator = dt, scoring = 'accuracy',  param_grid = tree_params, cv = skf, n_jobs = -1)"
   ]
  },
  {
   "cell_type": "code",
   "execution_count": 36,
   "metadata": {},
   "outputs": [
    {
     "name": "stdout",
     "output_type": "stream",
     "text": [
      "CPU times: user 1.59 s, sys: 403 ms, total: 1.99 s\n",
      "Wall time: 9.19 s\n"
     ]
    },
    {
     "data": {
      "text/plain": [
       "GridSearchCV(cv=StratifiedKFold(n_splits=5, random_state=17, shuffle=True),\n",
       "             error_score=nan,\n",
       "             estimator=DecisionTreeClassifier(ccp_alpha=0.0, class_weight=None,\n",
       "                                              criterion='gini', max_depth=None,\n",
       "                                              max_features=None,\n",
       "                                              max_leaf_nodes=None,\n",
       "                                              min_impurity_decrease=0.0,\n",
       "                                              min_impurity_split=None,\n",
       "                                              min_samples_leaf=1,\n",
       "                                              min_samples_split=2,\n",
       "                                              min_weight_fraction_leaf=0.0,\n",
       "                                              presort='deprecated',\n",
       "                                              random_state=17,\n",
       "                                              splitter='best'),\n",
       "             iid='deprecated', n_jobs=-1,\n",
       "             param_grid={'max_depth': range(2, 11),\n",
       "                         'min_samples_leaf': range(2, 11)},\n",
       "             pre_dispatch='2*n_jobs', refit=True, return_train_score=False,\n",
       "             scoring='accuracy', verbose=0)"
      ]
     },
     "execution_count": 36,
     "metadata": {},
     "output_type": "execute_result"
    }
   ],
   "source": [
    "%%time\n",
    "tree_grid.fit(X_train, y_train)"
   ]
  },
  {
   "cell_type": "code",
   "execution_count": 37,
   "metadata": {
    "scrolled": false
   },
   "outputs": [
    {
     "data": {
      "text/plain": [
       "{'max_depth': 8, 'min_samples_leaf': 8}"
      ]
     },
     "execution_count": 37,
     "metadata": {},
     "output_type": "execute_result"
    }
   ],
   "source": [
    "#Printing best parameters found by cross-validation\n",
    "tree_grid.best_params_"
   ]
  },
  {
   "cell_type": "code",
   "execution_count": 38,
   "metadata": {
    "scrolled": true
   },
   "outputs": [
    {
     "name": "stdout",
     "output_type": "stream",
     "text": [
      "Best accuracy score on CV is: 0.81341\n"
     ]
    }
   ],
   "source": [
    "print(f'Best accuracy score on CV is: {round(tree_grid.best_score_, 5)}')"
   ]
  },
  {
   "cell_type": "code",
   "execution_count": 39,
   "metadata": {},
   "outputs": [
    {
     "name": "stdout",
     "output_type": "stream",
     "text": [
      "Best accuracy score on a validation set using tuned decision tree 0.8135\n",
      "Best ROC/AUC score on a validation set using tuned decision tree 0.68182\n"
     ]
    }
   ],
   "source": [
    "#Saving the tuned DT \n",
    "best_tree = tree_grid.best_estimator_ \n",
    "\n",
    "#Assesing validation score on tuned DT\n",
    "dt_best_preds = best_tree.predict(X_valid)\n",
    "dt_best_acc_score = accuracy_score(dt_best_preds, y_valid)\n",
    "dt_best_roc_auc_score = roc_auc_score(dt_best_preds, y_valid)\n",
    "\n",
    "print(f'Best accuracy score on a validation set using tuned decision tree {round(dt_best_acc_score, 5)}')\n",
    "print(f'Best ROC/AUC score on a validation set using tuned decision tree {round(dt_best_roc_auc_score, 5)}')"
   ]
  },
  {
   "cell_type": "markdown",
   "metadata": {},
   "source": [
    "So, we see that our accuracy score and AUC score improved by tuning some of the Decision Tree hyperparameters. Maybe if we tuned it a little more (max_features etc.) we would obtain better results. Again, I have to point out that stratified CV is mandatory to give true evaluation in case of unbalanced datasets. Using 10 fold-CV would yield even better estimates of score that one should trust, but as you can see CV score and score on unseen validation set don't deviate too much. \n",
    "\n",
    "Let's see what features seem important according to best decision tree model!"
   ]
  },
  {
   "cell_type": "code",
   "execution_count": 40,
   "metadata": {},
   "outputs": [],
   "source": [
    "#If interested, one can uncomment next line of code to inspect the splits made by trained decision tree, or \n",
    "#look into the git repository for .png file\n",
    "#tree_graph_to_png(tree_grid.best_estimator_, X.columns, png_file_to_save='decision_tree.png')"
   ]
  },
  {
   "cell_type": "code",
   "execution_count": 41,
   "metadata": {},
   "outputs": [],
   "source": [
    "#Saving all the features based of best gini coefficient (similar like information gain)\n",
    "tree_features = pd.DataFrame(data = tree_grid.best_estimator_.feature_importances_,\n",
    "                             index = X.columns,\n",
    "                             columns = ['Importance'])"
   ]
  },
  {
   "cell_type": "code",
   "execution_count": 42,
   "metadata": {
    "scrolled": true
   },
   "outputs": [
    {
     "data": {
      "image/png": "[encoded data removed]",
      "text/plain": [
       "<Figure size 432x288 with 1 Axes>"
      ]
     },
     "metadata": {
      "needs_background": "light"
     },
     "output_type": "display_data"
    }
   ],
   "source": [
    "#Ploting the feature importances\n",
    "tree_features.sort_values(by = 'Importance', ascending = False).plot(kind = 'bar');"
   ]
  },
  {
   "cell_type": "markdown",
   "metadata": {},
   "source": [
    "Think of it, departure time being the most important feature even coincide with our own intuition as to why planes are delayed in a first place!\n",
    "\n",
    "Same goes for the distance feature. Think of it, planes that go from point A to point B are always deviating in 'distance traveled' compared to expected 'shortest distance' from A to B, and hence some delay is mandatory. This also give us a nice idea to engineer a new feature such as combining Dest_1 and Origin_1.\n",
    "\n",
    "Since Distance_1 has smaller feature importance (but significant than others) my hypothesis is that distances don't deviate from the expected one too much for this sample of datapoints, and (speaking of business side) we should take further focus on investigations in terms of departure time. \n",
    "\n",
    "We will evaluate feature importances for each model, possibly take an 'average decision' and see 'if everyone thinks the same'. \n",
    "\n",
    "Again, this dataset is **a sample** and these claims have to be further proved by statisticians in order to start taking further actions."
   ]
  },
  {
   "cell_type": "markdown",
   "metadata": {},
   "source": [
    "---"
   ]
  },
  {
   "cell_type": "markdown",
   "metadata": {},
   "source": [
    "It is said that the model is stable if the standard deviation on validation set(s) (speaking of CrossValidation) is as less as possible. I will put the threshold and say that it should be strictly less than 0.5%."
   ]
  },
  {
   "cell_type": "code",
   "execution_count": 43,
   "metadata": {},
   "outputs": [],
   "source": [
    "#Defining 'mask' to filter out the best CV score\n",
    "is_best_score = tree_grid.cv_results_['rank_test_score'] == 1 \n",
    "best_score_test_std = tree_grid.cv_results_['std_test_score'][is_best_score][0]*100"
   ]
  },
  {
   "cell_type": "code",
   "execution_count": 44,
   "metadata": {
    "scrolled": true
   },
   "outputs": [
    {
     "name": "stdout",
     "output_type": "stream",
     "text": [
      "Standard deviation defined as % on the best CV set is: 0.046\n"
     ]
    }
   ],
   "source": [
    "print(f'Standard deviation defined as % on the best CV set is: {round(best_score_test_std, 3)}')"
   ]
  },
  {
   "cell_type": "code",
   "execution_count": 45,
   "metadata": {},
   "outputs": [
    {
     "data": {
      "text/plain": [
       "True"
      ]
     },
     "execution_count": 45,
     "metadata": {},
     "output_type": "execute_result"
    }
   ],
   "source": [
    "best_score_test_std < 0.5"
   ]
  },
  {
   "cell_type": "markdown",
   "metadata": {},
   "source": [
    "This means that CV test scores are distributed with very narrow (normal) distribution, and hence it is relatively precise measure of score expectation on our test-set. Affording CV with 10-folds would be even better for assesing true evaluation of models predictive power. \n",
    "\n",
    "Accuracy is not a good metric for imbalanced dataset, and hence we will move to ROC-AUC. "
   ]
  },
  {
   "cell_type": "markdown",
   "metadata": {},
   "source": [
    "### Decision Tree (GridSearchCV - ROC/AUC)"
   ]
  },
  {
   "cell_type": "code",
   "execution_count": 46,
   "metadata": {},
   "outputs": [],
   "source": [
    "#Same parameters will be used to find the best DecisionTree but we are explicitly stating that we want ROC-AUC\n",
    "#score to be improved via CV \n",
    "tree_grid_auc = GridSearchCV(estimator = dt, scoring = 'roc_auc',\n",
    "                             param_grid = tree_params, cv = skf, n_jobs = -1)"
   ]
  },
  {
   "cell_type": "code",
   "execution_count": 47,
   "metadata": {
    "scrolled": true
   },
   "outputs": [
    {
     "name": "stdout",
     "output_type": "stream",
     "text": [
      "CPU times: user 1.15 s, sys: 617 ms, total: 1.77 s\n",
      "Wall time: 7.62 s\n"
     ]
    },
    {
     "data": {
      "text/plain": [
       "GridSearchCV(cv=StratifiedKFold(n_splits=5, random_state=17, shuffle=True),\n",
       "             error_score=nan,\n",
       "             estimator=DecisionTreeClassifier(ccp_alpha=0.0, class_weight=None,\n",
       "                                              criterion='gini', max_depth=None,\n",
       "                                              max_features=None,\n",
       "                                              max_leaf_nodes=None,\n",
       "                                              min_impurity_decrease=0.0,\n",
       "                                              min_impurity_split=None,\n",
       "                                              min_samples_leaf=1,\n",
       "                                              min_samples_split=2,\n",
       "                                              min_weight_fraction_leaf=0.0,\n",
       "                                              presort='deprecated',\n",
       "                                              random_state=17,\n",
       "                                              splitter='best'),\n",
       "             iid='deprecated', n_jobs=-1,\n",
       "             param_grid={'max_depth': range(2, 11),\n",
       "                         'min_samples_leaf': range(2, 11)},\n",
       "             pre_dispatch='2*n_jobs', refit=True, return_train_score=False,\n",
       "             scoring='roc_auc', verbose=0)"
      ]
     },
     "execution_count": 47,
     "metadata": {},
     "output_type": "execute_result"
    }
   ],
   "source": [
    "%%time\n",
    "tree_grid_auc.fit(X_train, y_train)"
   ]
  },
  {
   "cell_type": "code",
   "execution_count": 48,
   "metadata": {},
   "outputs": [
    {
     "data": {
      "text/plain": [
       "{'max_depth': range(2, 11), 'min_samples_leaf': range(2, 11)}"
      ]
     },
     "execution_count": 48,
     "metadata": {},
     "output_type": "execute_result"
    }
   ],
   "source": [
    "tree_params"
   ]
  },
  {
   "cell_type": "code",
   "execution_count": 49,
   "metadata": {},
   "outputs": [
    {
     "name": "stdout",
     "output_type": "stream",
     "text": [
      "Best parameters based on CV: {'max_depth': 6, 'min_samples_leaf': 2}\n"
     ]
    }
   ],
   "source": [
    "print(f'Best parameters based on CV: {tree_grid_auc.best_params_}')"
   ]
  },
  {
   "cell_type": "code",
   "execution_count": 50,
   "metadata": {
    "scrolled": true
   },
   "outputs": [
    {
     "name": "stdout",
     "output_type": "stream",
     "text": [
      "Best ROC/AUC score for the DecisionTreeClassifier is: 0.69656\n"
     ]
    }
   ],
   "source": [
    "print(f'Best ROC/AUC score for the DecisionTreeClassifier is: {round(tree_grid_auc.best_score_, 5)}')"
   ]
  },
  {
   "cell_type": "code",
   "execution_count": 51,
   "metadata": {},
   "outputs": [],
   "source": [
    "dt_best_auc_pred = tree_grid.best_estimator_.predict(X_valid)"
   ]
  },
  {
   "cell_type": "code",
   "execution_count": 52,
   "metadata": {},
   "outputs": [
    {
     "name": "stdout",
     "output_type": "stream",
     "text": [
      "ROC/AUC score on validation set for the tuned DecisionTreeClassifier is: 0.68182\n"
     ]
    }
   ],
   "source": [
    "print(f'ROC/AUC score on validation set for the tuned DecisionTreeClassifier is: {round(roc_auc_score(dt_best_auc_pred, y_valid), 5)}')"
   ]
  },
  {
   "cell_type": "markdown",
   "metadata": {},
   "source": [
    "To understand our model better, we need to look 'under the hood' and it's done via looking at a confusion matrix."
   ]
  },
  {
   "cell_type": "code",
   "execution_count": 53,
   "metadata": {
    "scrolled": true
   },
   "outputs": [
    {
     "data": {
      "image/png": "[encoded data removed]",
      "text/plain": [
       "<Figure size 432x288 with 1 Axes>"
      ]
     },
     "metadata": {
      "needs_background": "light"
     },
     "output_type": "display_data"
    }
   ],
   "source": [
    "plot_confusion_matrix(confusion_matrix(y_valid, dt_best_auc_pred));"
   ]
  },
  {
   "cell_type": "markdown",
   "metadata": {},
   "source": [
    "How much FPs, TPs, TNs and FNs one is able to tolerate depends on the bussines task/problem at hand. For example, to totally reduce the risk of an outbreak of some rare disease (COVID etc.) we would have to sacriface something in order to correctly find (classify) 'every' sample that is infected with COVID. When I say 'sacrifice something' it means that 'all' of the classification metrics depend directly by dialing-and-knobing TPs, TNs etc. where in a sense we can 'fight' some cases in favor of other, that is, make a 'trade-off'. \n",
    "\n",
    "Again, I will argue that in some business context you can't use AUC score to make something meaningful out of it. By improving AUC score we basically have some sort of a gauge to compare which classifier is better. As AUC score tends to 1 there is a 'better' freedom to make our model 'however we want', tolerating FPs and FNs by 'how much we want' and hence making the scores made out of those as 'idealy as we want'. I will argue that a probability one will encounter such a perfectly separable classes or to find that 'magic feature' that is 1:1 with target labels is very, very low. \n",
    "\n",
    "ROC curves are usually ploted as a False Positive Rate (x-axis) vs True Positive Rate (y-axis). \n",
    "By default, treshold probability 'isInClass' equals 0.5, and can vary from 0 to 1 and hence directly changing specificity and sensitivity.\n",
    "\n",
    "One should always inspect a ROC curve by plotting all cases for FPR vs TPR since for example by having AUC = 0.8 it could mean different combinations of plots that have the same area under the curve around 0.8 (think of n different shapes that have the same area!). Bigger the dataset the more expensive is drawing ROC curves.\n",
    "\n",
    "For the sake of convenience, and since our dataset is not very big let's plot it!"
   ]
  },
  {
   "cell_type": "code",
   "execution_count": 54,
   "metadata": {},
   "outputs": [
    {
     "data": {
      "image/png": "[encoded data removed]",
      "text/plain": [
       "<Figure size 432x288 with 1 Axes>"
      ]
     },
     "metadata": {
      "needs_background": "light"
     },
     "output_type": "display_data"
    }
   ],
   "source": [
    "plot_roc_curve(estimator = tree_grid.best_estimator_, X = X_valid, y = y_valid);"
   ]
  },
  {
   "cell_type": "markdown",
   "metadata": {},
   "source": [
    "These are usually hard to interpret since you can't see for which tresholds you will get such TPR and FPR. \n",
    "For this time being I will use the numbers from the previously obtained confusion matrix to estimate those. "
   ]
  },
  {
   "cell_type": "code",
   "execution_count": 55,
   "metadata": {},
   "outputs": [
    {
     "data": {
      "image/png": "[encoded data removed]",
      "text/plain": [
       "<Figure size 432x288 with 1 Axes>"
      ]
     },
     "metadata": {
      "needs_background": "light"
     },
     "output_type": "display_data"
    }
   ],
   "source": [
    "plot_confusion_matrix(confusion_matrix(y_valid, dt_best_auc_pred));"
   ]
  },
  {
   "cell_type": "code",
   "execution_count": 56,
   "metadata": {},
   "outputs": [],
   "source": [
    "#When the probability treshold is 0.5 these are approximatevly the values for TPR and FPR\n",
    "tpr_default_tresh = 447/y_valid.value_counts()[1] #TP/True (Actual) 'Yes'\n",
    "fpr_default_tresh = 377/y_valid.value_counts()[0] # FP/True (Actual) 'No'"
   ]
  },
  {
   "cell_type": "code",
   "execution_count": 57,
   "metadata": {
    "scrolled": true
   },
   "outputs": [
    {
     "data": {
      "image/png": "[encoded data removed]",
      "text/plain": [
       "<Figure size 432x288 with 1 Axes>"
      ]
     },
     "metadata": {
      "needs_background": "light"
     },
     "output_type": "display_data"
    }
   ],
   "source": [
    "plot_roc_curve(estimator = tree_grid.best_estimator_, X = X_valid, y = y_valid)\n",
    "plt.vlines(x = fpr_default_tresh, ymin = 0, ymax = 1, color = 'red', linestyle = '--', linewidth = 0.7);\n",
    "plt.hlines(y = tpr_default_tresh, xmin = 0, xmax = 1, color = 'red', linestyle = '--', linewidth = 0.7);"
   ]
  },
  {
   "cell_type": "markdown",
   "metadata": {},
   "source": [
    "We can observe that out of all 30000 samples in our validation set where 24335 belong to class 0 ('not-delayed') and 5665 belong to class 1 ('delayed') our classifier is relatively good at predicting labels 0 (True Negatives), which was expected. On the contrary, there are way too many False Negatives (5218 of them), and hence our model is very bad at predicting True Positives (447/5665).\n",
    "\n",
    "This is why on imbalanced datasets accuracy is no way of measuring a success! Again, I have to mention that so far we haven't done any feature engineering, which might help us to improve these 'out of box' models (make 'cleaner separation' of classes)."
   ]
  },
  {
   "cell_type": "markdown",
   "metadata": {},
   "source": [
    "# kNN (k-Nearest Neighbors)"
   ]
  },
  {
   "cell_type": "markdown",
   "metadata": {},
   "source": [
    "Among all the simple models kNN is also on my check list since it sometimes outperforms tree-based methods and the dataset is not that big. I'm not claiming that I'm an expert on them but, I will skip explaining the inner workings and going to point out three, of which I think, are the crucial parts that need to be assesed:\n",
    "\n",
    "1) For algorithms which are based on calculating the distance feature scaling is absolute necessity in order to exclude the possiblity of giving more weight based on one feature versus the others, eg. when one distribution is located in the vicinity of zero and does not go beyond (-1, 1) while the other’s range is on the order of hundreds of thousands.\n",
    "\n",
    "2) There are no theoretical ways to choose the number of neighbors. It's done via cross-validation and (here) GridSearch,\n",
    "\n",
    "3) Weights of neighbors (each neighbor may contribute different weights; for example, the further the sample, the lower the weight). In scikit-learn implementation you can either choose **uniform** (all points have the same weights) **distance** (the weight is inversely proportional to the distance from the test sample), or any other user-defined function. \n",
    "\n",
    "I will try to optimize it relative to ROC/AUC score, and see if it outperforms tuned DecisionTreeClassifier. "
   ]
  },
  {
   "cell_type": "markdown",
   "metadata": {},
   "source": [
    "### kNN (GridSearchCV - ROC/AUC)"
   ]
  },
  {
   "cell_type": "code",
   "execution_count": 58,
   "metadata": {},
   "outputs": [],
   "source": [
    "#Define a kNN pipeline \n",
    "knn_pipe = Pipeline([('scaler', StandardScaler()), \\\n",
    "                     ('knn', KNeighborsClassifier(n_jobs=-1))]) \n",
    "\n",
    "\n",
    "#For the simplicity, tuning only number of neighbors\n",
    "knn_params = {'knn__n_neighbors': range(1, 10)}\n",
    "\n",
    "knn_grid = GridSearchCV(estimator = knn_pipe, param_grid = knn_params,\n",
    "                        cv=5, n_jobs=-1, scoring = 'roc_auc')"
   ]
  },
  {
   "cell_type": "code",
   "execution_count": 59,
   "metadata": {
    "scrolled": true
   },
   "outputs": [
    {
     "name": "stdout",
     "output_type": "stream",
     "text": [
      "CPU times: user 213 ms, sys: 39.1 ms, total: 252 ms\n",
      "Wall time: 12.5 s\n"
     ]
    },
    {
     "data": {
      "text/plain": [
       "GridSearchCV(cv=5, error_score=nan,\n",
       "             estimator=Pipeline(memory=None,\n",
       "                                steps=[('scaler',\n",
       "                                        StandardScaler(copy=True,\n",
       "                                                       with_mean=True,\n",
       "                                                       with_std=True)),\n",
       "                                       ('knn',\n",
       "                                        KNeighborsClassifier(algorithm='auto',\n",
       "                                                             leaf_size=30,\n",
       "                                                             metric='minkowski',\n",
       "                                                             metric_params=None,\n",
       "                                                             n_jobs=-1,\n",
       "                                                             n_neighbors=5, p=2,\n",
       "                                                             weights='uniform'))],\n",
       "                                verbose=False),\n",
       "             iid='deprecated', n_jobs=-1,\n",
       "             param_grid={'knn__n_neighbors': range(1, 10)},\n",
       "             pre_dispatch='2*n_jobs', refit=True, return_train_score=False,\n",
       "             scoring='roc_auc', verbose=0)"
      ]
     },
     "execution_count": 59,
     "metadata": {},
     "output_type": "execute_result"
    }
   ],
   "source": [
    "%%time\n",
    "knn_grid.fit(X_train, y_train)"
   ]
  },
  {
   "cell_type": "code",
   "execution_count": 60,
   "metadata": {},
   "outputs": [
    {
     "name": "stdout",
     "output_type": "stream",
     "text": [
      "Best parameters based on CV: {'knn__n_neighbors': 9}\n",
      "Best ROC/AUC based on CV: 0.64253\n"
     ]
    }
   ],
   "source": [
    "print(f'Best parameters based on CV: {knn_grid.best_params_}')\n",
    "print(f'Best ROC/AUC based on CV: {round(knn_grid.best_score_,5)}')"
   ]
  },
  {
   "cell_type": "code",
   "execution_count": 61,
   "metadata": {
    "scrolled": true
   },
   "outputs": [
    {
     "name": "stdout",
     "output_type": "stream",
     "text": [
      "ROC-AUC score on validation set for the tuned kNN is: 0.61265\n"
     ]
    }
   ],
   "source": [
    "knn_best_auc_pred = knn_grid.best_estimator_.predict(X_valid)\n",
    "print(f'ROC-AUC score on validation set for the tuned kNN is: {round(roc_auc_score(knn_best_auc_pred, y_valid), 5)}')"
   ]
  },
  {
   "cell_type": "markdown",
   "metadata": {},
   "source": [
    "Previously we've seen that ROC-AUC score on tuned DecisionTreeClassifier is 0.68182 which is less than kNNs. This is another clue that tree based methods might work better on this dataset, and we should expect better results on RandomForests, or eventualy by using GradientBoostedTrees. Lastly, we have to see if thay holds comparing to the linear models aka LogisticRegression. Let's take a look at what kind of mistakes kNN is making!"
   ]
  },
  {
   "cell_type": "code",
   "execution_count": 62,
   "metadata": {
    "scrolled": false
   },
   "outputs": [
    {
     "data": {
      "image/png": "[encoded data removed]",
      "text/plain": [
       "<Figure size 432x288 with 1 Axes>"
      ]
     },
     "metadata": {
      "needs_background": "light"
     },
     "output_type": "display_data"
    }
   ],
   "source": [
    "#kNN confusion matrix\n",
    "plot_confusion_matrix(confusion_matrix(y_valid, knn_best_auc_pred));"
   ]
  },
  {
   "cell_type": "code",
   "execution_count": 63,
   "metadata": {},
   "outputs": [
    {
     "data": {
      "image/png": "[encoded data removed]",
      "text/plain": [
       "<Figure size 432x288 with 1 Axes>"
      ]
     },
     "metadata": {
      "needs_background": "light"
     },
     "output_type": "display_data"
    }
   ],
   "source": [
    "#Tuned DecisionTree confusion matrix\n",
    "plot_confusion_matrix(confusion_matrix(y_valid, dt_best_auc_pred));"
   ]
  },
  {
   "cell_type": "markdown",
   "metadata": {},
   "source": [
    "Wow, we immediately see that tuned kNN is better at predicting True Positives than tuned DecisionTree! But that is nothing to be compared to real problem where we expect to find even more!\n",
    "\n",
    "--- \n",
    "\n",
    "Let's just imagine a buisness case scenario where it's crucial to predict those delayed flights because it costs us money. We have to improve True Positives in order to detect them better. The by-product of it is that we will (hopefully!) also improve our ROC-AUC score."
   ]
  },
  {
   "cell_type": "markdown",
   "metadata": {},
   "source": [
    "# Logistic Regression"
   ]
  },
  {
   "cell_type": "markdown",
   "metadata": {},
   "source": [
    "**Strategy #1** \n",
    "We will start off by training plain LogisticRegression without any hyperparameter tuning, and by using it's own way of dealing with imbalanced data: parameter **class_weight** which in an essence puts weights on errors proportional to the class imbalance (errors on imbalanced class should be considered more costly than those of the other class). By putting **class_weight** to *balanced* it will weigh classes inversely proportional to their frequency. How good it works? That might be also considered as a hyperparameter to be tuned.\n",
    "\n",
    "Just a quick thoughts on hyperparameter tuning. So far I've observed that LogisticRegression algos are not too sensitive to hyperparameter tuning. For my 'plain' LogisticRegression I will use 'lbfgs' solver since it is considered fastest and handles both L1 and L2 regularization, and max_iters will be set to 500 because if we use default one which is set to 100 there might be a convergence problem. Lastly, I will introduce the default regularization by setting the parameter C == 1. \n",
    "\n",
    "Parameter C is inversly proportional to the regularization coefficient (lambda) and hence gives a better idea what you are doing in terms of regularization when you make it less or larger than one. By default, scikit-learn implementation uses L2 regularization, and you can think of it intuitevely as constraining weights (and biases) to an imaginary hypersphere where C^2 would represent sort of a radius of that hypersphere. Imagining that hypersphere is located at the origin (0,0,...,0) and that minimum of a loss function is somewhere else one can intuitevly see that by making C larger you are letting the gradient descent algorithm to make steps closer to the minimum, and conversely by letting C<1 you are putting too much constraints on the learning parameters and hence preventing model to overfit. \n",
    "\n",
    "It is also convenient to use feature scaling when we are dealing with any type of linear classifiers which in an essence learn weights associated with each feature. We don't want to overemphasise some features over the others, that is, we want to put them on the same scale and hence we use StandardScaler (z-score). Another consequence of feature scaling is that it makes our 'loss function' more properly scaled which implies faster convergence towards local/global minimum. Lastly, it is used to make feature importance interpretable but we compare features in units of standard deviation! "
   ]
  },
  {
   "cell_type": "code",
   "execution_count": 64,
   "metadata": {},
   "outputs": [],
   "source": [
    "#Define LogisticRegression classifier\n",
    "logit = LogisticRegression(random_state = RANDOM_STATE, solver = 'lbfgs', C = 1,\n",
    "                           class_weight = 'balanced', max_iter = 500, penalty = 'l2')\n",
    "#Create a data pipeline\n",
    "logit_pipe = Pipeline([('scaler', StandardScaler()), \n",
    "                       ('logit', logit)])"
   ]
  },
  {
   "cell_type": "code",
   "execution_count": 65,
   "metadata": {},
   "outputs": [
    {
     "name": "stdout",
     "output_type": "stream",
     "text": [
      "CPU times: user 138 ms, sys: 4.89 ms, total: 143 ms\n",
      "Wall time: 50.8 ms\n"
     ]
    },
    {
     "data": {
      "text/plain": [
       "Pipeline(memory=None,\n",
       "         steps=[('scaler',\n",
       "                 StandardScaler(copy=True, with_mean=True, with_std=True)),\n",
       "                ('logit',\n",
       "                 LogisticRegression(C=1, class_weight='balanced', dual=False,\n",
       "                                    fit_intercept=True, intercept_scaling=1,\n",
       "                                    l1_ratio=None, max_iter=500,\n",
       "                                    multi_class='auto', n_jobs=None,\n",
       "                                    penalty='l2', random_state=17,\n",
       "                                    solver='lbfgs', tol=0.0001, verbose=0,\n",
       "                                    warm_start=False))],\n",
       "         verbose=False)"
      ]
     },
     "execution_count": 65,
     "metadata": {},
     "output_type": "execute_result"
    }
   ],
   "source": [
    "%%time\n",
    "logit_pipe.fit(X_train, y_train)"
   ]
  },
  {
   "cell_type": "code",
   "execution_count": 66,
   "metadata": {},
   "outputs": [],
   "source": [
    "#Predictions on validation set\n",
    "logit_val_preds = logit_pipe.predict(X_valid)\n",
    "\n",
    "#Calcule accuracy score relative to target labels\n",
    "logit_acc_score = accuracy_score(logit_val_preds, y_valid)\n",
    "\n",
    "#Calculate ROC-AUC score relative to target labels\n",
    "logit_roc_auc_score = roc_auc_score(logit_val_preds, y_valid)"
   ]
  },
  {
   "cell_type": "code",
   "execution_count": 67,
   "metadata": {
    "scrolled": true
   },
   "outputs": [
    {
     "name": "stdout",
     "output_type": "stream",
     "text": [
      "Accuracy score using LogisticRegression: 0.61993\n",
      "ROC-AUC score using LogisticRegression: 0.58043\n"
     ]
    }
   ],
   "source": [
    "print(f'Accuracy score using LogisticRegression: {round(logit_acc_score, 5)}')\n",
    "print(f'ROC-AUC score using LogisticRegression: {round(logit_roc_auc_score, 5)}')"
   ]
  },
  {
   "cell_type": "markdown",
   "metadata": {},
   "source": [
    "Let's plot the confusion matrices between non-optimized LogisticRegression, and tuned DecisionTree classifier:"
   ]
  },
  {
   "cell_type": "code",
   "execution_count": 68,
   "metadata": {
    "scrolled": true
   },
   "outputs": [
    {
     "data": {
      "image/png": "[encoded data removed]",
      "text/plain": [
       "<Figure size 432x288 with 1 Axes>"
      ]
     },
     "metadata": {
      "needs_background": "light"
     },
     "output_type": "display_data"
    }
   ],
   "source": [
    "#LogisticRegressionClassifier confusion matrix\n",
    "plot_confusion_matrix(confusion_matrix(y_valid, logit_val_preds));"
   ]
  },
  {
   "cell_type": "code",
   "execution_count": 69,
   "metadata": {},
   "outputs": [
    {
     "data": {
      "image/png": "[encoded data removed]",
      "text/plain": [
       "<Figure size 432x288 with 1 Axes>"
      ]
     },
     "metadata": {
      "needs_background": "light"
     },
     "output_type": "display_data"
    }
   ],
   "source": [
    "#Tuned DecisionTree confusion matrix\n",
    "plot_confusion_matrix(confusion_matrix(y_valid, dt_best_auc_pred));"
   ]
  },
  {
   "cell_type": "code",
   "execution_count": 70,
   "metadata": {},
   "outputs": [
    {
     "name": "stdout",
     "output_type": "stream",
     "text": [
      "ROC-AUC score for tuned DecisionTreeClassifier is 0.68182, and for LogisticRegression 0.58043.\n"
     ]
    }
   ],
   "source": [
    "print(f'ROC-AUC score for tuned DecisionTreeClassifier is {round(roc_auc_score(dt_best_auc_pred, y_valid), 5)}, and for LogisticRegression {round(logit_roc_auc_score, 5)}.')"
   ]
  },
  {
   "cell_type": "markdown",
   "metadata": {},
   "source": [
    "By setting the **class-weight** parameter to *balanced* we managed to detect far more True Positives than tuned DecisionTree classifier, but it has a consequence of having too many False Negatives! On the other hand non-optimized LogisticRegression has worse ROC-AUC score than tuned DecisionTreeClassifier which is again an indicator that we might make our further progress towards tree based methods, but first let us try to tune LogisticRegression!"
   ]
  },
  {
   "cell_type": "markdown",
   "metadata": {},
   "source": [
    "### LogisticRegression (GridSearchCV - ROC-AUC/F1 score)"
   ]
  },
  {
   "cell_type": "markdown",
   "metadata": {},
   "source": [
    "**Strategy #2** \n",
    "We have already seen that accuracy is not a good metric for imbalaced dataset, that is, it gives a false impression that we are doing 'good'.\n",
    "\n",
    "Since I wanted to tackle improving ROC-AUC score (that is the Kaggle metric to improve upon in a first place!) in order to make this project more meaningful I will also think of it as solving our ficticious business case I've mentioned earlier (try to find as much True Positives such that FPs and FNs are balanced!) and try to improve ROC-AUC score by improving F1 score.\n",
    "\n",
    "Why last statement makes sense? F1 score can be between 0 and 1. Let's think of an ideal case where F1 == 1. It means that Precision == Recall == 1. That is a case of **an ideal classifier**, and ROC-AUC in that case equals to 1! Remember that ROC curves are drawn such that x-axis represents FPR, and y-axis represents TPR. If Precision == 1, then there are no False Positives, and if Recall == 1 then there are no False Negatives. Since FPR = FP/True 'No', that means that FPR == 0. That is a point on a ROC curve such that (x, y) = (FPR, TPR) = (FPR, Recall) = (0, 1). You can obtain such point if and only if AUC == 1, and hence that is **an ideal classifier**! In a nutshell as F1 converges to 1, ROC-AUC should converge to 1. \n",
    "\n",
    "The F1 score is a metric that attempts to take that tradeoff between false positives, false negatives and  detected delayed flights, since it is calculted as harmonic mean between Precision and Recall. It is also worth noting that F1 score is a 'class' of F_beta scores where Precision and Recall are treated with the same weight. If one favours to improve Precision or Recall, other F_beta scores are used.\n",
    "\n",
    "Another thing I want to tune is L2 regularization coefficient which in an essence tackles overfitting problem by making weights more constrained."
   ]
  },
  {
   "cell_type": "code",
   "execution_count": 71,
   "metadata": {},
   "outputs": [],
   "source": [
    "weights = np.linspace(0.05, 0.95, 20)\n",
    "\n",
    "param_grid = {'logit__C': np.logspace(-3, 1, 10),\n",
    "              'logit__class_weight': [{0: x, 1: 1.0-x} for x in weights]}\n",
    "logit_grid = GridSearchCV(estimator = logit_pipe, scoring = 'f1', \n",
    "                          param_grid = param_grid, cv = skf, n_jobs = -1)"
   ]
  },
  {
   "cell_type": "code",
   "execution_count": 72,
   "metadata": {
    "scrolled": true
   },
   "outputs": [
    {
     "name": "stdout",
     "output_type": "stream",
     "text": [
      "CPU times: user 3.92 s, sys: 2.54 s, total: 6.46 s\n",
      "Wall time: 17 s\n"
     ]
    },
    {
     "data": {
      "text/plain": [
       "GridSearchCV(cv=StratifiedKFold(n_splits=5, random_state=17, shuffle=True),\n",
       "             error_score=nan,\n",
       "             estimator=Pipeline(memory=None,\n",
       "                                steps=[('scaler',\n",
       "                                        StandardScaler(copy=True,\n",
       "                                                       with_mean=True,\n",
       "                                                       with_std=True)),\n",
       "                                       ('logit',\n",
       "                                        LogisticRegression(C=1,\n",
       "                                                           class_weight='balanced',\n",
       "                                                           dual=False,\n",
       "                                                           fit_intercept=True,\n",
       "                                                           intercept_scaling=1,\n",
       "                                                           l1_ratio=None,\n",
       "                                                           max_iter=500,\n",
       "                                                           multi_class='auto',\n",
       "                                                           n_job...\n",
       "                                                  1: 0.3342105263157895},\n",
       "                                                 {0: 0.7131578947368421,\n",
       "                                                  1: 0.2868421052631579},\n",
       "                                                 {0: 0.7605263157894736,\n",
       "                                                  1: 0.2394736842105264},\n",
       "                                                 {0: 0.8078947368421052,\n",
       "                                                  1: 0.19210526315789478},\n",
       "                                                 {0: 0.8552631578947368,\n",
       "                                                  1: 0.14473684210526316},\n",
       "                                                 {0: 0.9026315789473683,\n",
       "                                                  1: 0.09736842105263166},\n",
       "                                                 {0: 0.95,\n",
       "                                                  1: 0.050000000000000044}]},\n",
       "             pre_dispatch='2*n_jobs', refit=True, return_train_score=False,\n",
       "             scoring='f1', verbose=0)"
      ]
     },
     "execution_count": 72,
     "metadata": {},
     "output_type": "execute_result"
    }
   ],
   "source": [
    "%%time\n",
    "logit_grid.fit(X_train, y_train)"
   ]
  },
  {
   "cell_type": "code",
   "execution_count": 73,
   "metadata": {},
   "outputs": [
    {
     "data": {
      "text/plain": [
       "{'logit__C': 3.593813663804626,\n",
       " 'logit__class_weight': {0: 0.19210526315789472, 1: 0.8078947368421052}}"
      ]
     },
     "execution_count": 73,
     "metadata": {},
     "output_type": "execute_result"
    }
   ],
   "source": [
    "#Best parameters \n",
    "logit_grid.best_params_"
   ]
  },
  {
   "cell_type": "code",
   "execution_count": 74,
   "metadata": {},
   "outputs": [
    {
     "name": "stdout",
     "output_type": "stream",
     "text": [
      "Best F1 score based on cross-validation: 0.39546\n"
     ]
    }
   ],
   "source": [
    "print(f'Best F1 score based on cross-validation: {round(logit_grid.best_score_, 5)}')"
   ]
  },
  {
   "cell_type": "code",
   "execution_count": 75,
   "metadata": {},
   "outputs": [
    {
     "name": "stdout",
     "output_type": "stream",
     "text": [
      "ROC-AUC score based on cross-validation 0.58062\n"
     ]
    }
   ],
   "source": [
    "logit_grid_preds = logit_grid.predict(X_valid)\n",
    "print(f'ROC-AUC score based on cross-validation {round(roc_auc_score(logit_grid_preds, y_valid), 5)}')"
   ]
  },
  {
   "cell_type": "markdown",
   "metadata": {},
   "source": [
    "As I've already mentioned above, notice how LogisticRegression isn't that highly sensitive to tuning hyperparameters: ROC-AUC score is barely higher than plain LogisticRegression's."
   ]
  }
 ],
 "metadata": {
  "kernelspec": {
   "display_name": "Python 3",
   "language": "python",
   "name": "python3"
  },
  "language_info": {
   "codemirror_mode": {
    "name": "ipython",
    "version": 3
   },
   "file_extension": ".py",
   "mimetype": "text/x-python",
   "name": "python",
   "nbconvert_exporter": "python",
   "pygments_lexer": "ipython3",
   "version": "3.8.2"
  }
 },
 "nbformat": 4,
 "nbformat_minor": 4
}
